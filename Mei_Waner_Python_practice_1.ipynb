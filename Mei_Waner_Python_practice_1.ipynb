{
  "nbformat": 4,
  "nbformat_minor": 0,
  "metadata": {
    "colab": {
      "name": "Mei_Waner_Homework1.ipynb",
      "provenance": [],
      "collapsed_sections": [],
      "toc_visible": true
    },
    "kernelspec": {
      "name": "python3",
      "display_name": "Python 3"
    }
  },
  "cells": [
    {
      "cell_type": "markdown",
      "metadata": {
        "id": "hm8RAKinXsIP"
      },
      "source": [
        "## **Homework 1**\n",
        "\n",
        "### Create a copy of the notebook to start answering the questions. Name your notebook in the format HW1_lastname_firstname.ipynb to facilitate the grading process. \n",
        "\n",
        "### Answer all the questions, test your code to ensure there are no errors and the results are as expected. Once you have answered all the questions, save the final copy, then go to File-> click on Download.ipynb. Once the local copy has been downloaded, submit your file on Blackboard under the corresponding assignment section. Also provide us a link to your notebook during submission. \n",
        "\n",
        "### **The due date of this homework is 02/05/2021 (Friday).**\n",
        "\n",
        "### Please ensure you follow all the steps mentioned in the homework.\n",
        "\n",
        "### All the questions have a sample input and output to help you understand the question. Please note that your programs will be tested for other sets of inputs and outputs along with the sample provided. So test your code for other inputs.\n",
        "\n",
        "### You can submit your solutions any number of times until the deadline.\n"
      ]
    },
    {
      "cell_type": "markdown",
      "metadata": {
        "id": "uacFrEaZfcfq"
      },
      "source": [
        "##### Q1. Write a program that prompts the user to enter a password then prints the length of the password.\n",
        "\n",
        "```\n",
        "Enter your password: hello\n",
        "Your password is 5 long.\n",
        "```\n",
        "\n",
        "\n"
      ]
    },
    {
      "cell_type": "code",
      "metadata": {
        "id": "avPyES14ftCt",
        "colab": {
          "base_uri": "https://localhost:8080/"
        },
        "outputId": "37b88870-85ae-4111-f2da-16de75d4f6a5"
      },
      "source": [
        "# Type solution here\r\n",
        "password = input(\"Enter your password: \")\r\n",
        "print(\"Your password is \" + str(len(password)) + \" long.\")"
      ],
      "execution_count": null,
      "outputs": [
        {
          "output_type": "stream",
          "text": [
            "Enter your password: hello\n",
            "Your password is 5 long.\n"
          ],
          "name": "stdout"
        }
      ]
    },
    {
      "cell_type": "markdown",
      "metadata": {
        "id": "ekh-kABuItli"
      },
      "source": [
        ""
      ]
    },
    {
      "cell_type": "markdown",
      "metadata": {
        "id": "K1yko-xUItU3"
      },
      "source": [
        ""
      ]
    },
    {
      "cell_type": "markdown",
      "metadata": {
        "id": "behD0j_Of2TW"
      },
      "source": [
        "##### Q2. Write a program that prompts the user to enter their full name then prints the number of characters in their name (do not count spaces).\n",
        "\n",
        "```\n",
        "What is your name? Amulya Katti\n",
        "Amulya Katti your name has 11 characters.\n",
        "```"
      ]
    },
    {
      "cell_type": "code",
      "metadata": {
        "id": "XSdIRjwlhSlu",
        "colab": {
          "base_uri": "https://localhost:8080/"
        },
        "outputId": "9662c19b-734a-4dc6-b238-f47d64405873"
      },
      "source": [
        "# Type solution here\r\n",
        "name = input(\"What is your name? \")\r\n",
        "print(name, \"your name has\", (str(len(name) - name.count(\" \"))), \"characters.\")\r\n"
      ],
      "execution_count": null,
      "outputs": [
        {
          "output_type": "stream",
          "text": [
            "What is your name? waner mei\n",
            "waner mei your name has 8 characters.\n"
          ],
          "name": "stdout"
        }
      ]
    },
    {
      "cell_type": "markdown",
      "metadata": {
        "id": "5KHOWF6FhVHV"
      },
      "source": [
        "##### Q3. Write a program that prompts the user to enter a month (as a number), then prints the name of the month and the number of days in that month. Ensure that the user inputs a valid month and handle any error cases.\n",
        "\n",
        "```\n",
        "Enter the month number: 9\n",
        "September has 30 days\n",
        "```"
      ]
    },
    {
      "cell_type": "code",
      "metadata": {
        "id": "KhS-SAEThyTG",
        "colab": {
          "base_uri": "https://localhost:8080/"
        },
        "outputId": "6a534d27-22e8-4041-f8ac-237a9d5106b6"
      },
      "source": [
        "# Type solution here\r\n",
        "month = input(\"Enter the month number: \")\r\n",
        "monthsList = [\"January\", \"Feburary\", \"March\", \"April\", \"May\", \"June\", \"July\", \"August\", \"September\", \" October\", \"November\", \"December\"]\r\n",
        "daysList = [\"31\", \"28 or 29\", \"31\", \"30\", \"31\", \"30\", \"31\", \"31\", \"30\", \"31\", \"30\", \"31\"]\r\n",
        "while month.isdigit() != True:\r\n",
        "  print(\"This is not a number.\")\r\n",
        "  month = input(\"Enter the month number: \")\r\n",
        "while int(month) >= 13 or int(month) <= 0:\r\n",
        "  print(\"this is not a valid month.\")\r\n",
        "  month = input(\"Enter the month number: \")\r\n",
        "monthName = monthsList [int(month) - 1]\r\n",
        "daysNum = daysList [int(month) - 1]\r\n",
        "print(monthName, \"has\", daysNum, \"days.\")"
      ],
      "execution_count": null,
      "outputs": [
        {
          "output_type": "stream",
          "text": [
            "Enter the month number: 3\n",
            "March has 31 days.\n"
          ],
          "name": "stdout"
        }
      ]
    },
    {
      "cell_type": "markdown",
      "metadata": {
        "id": "O7lnAdGlh6Xa"
      },
      "source": [
        "##### Q4. Write a program that prompts the user to enter a loan amount, annual interest rate, and number of years  for a car loan. Then calculate and print the monthly payment amount.\n",
        "\n",
        "Note:\n",
        "```\n",
        "PMT= [PV*i*((1+i)^n)]/[((1+i)^n)-1]\n",
        "```\n",
        "PMT is the monthly payment\n",
        "\n",
        "PV is the loan amount\n",
        "\n",
        "i is the interest rate per month in decimal form (interest rate percentage divided by 12)\n",
        "\n",
        "n is the number of months (term of the loan in months)\n",
        "\n",
        "```\n",
        "Loan Amount: 30000.00\n",
        "Annual Interest Rate: 4.00\n",
        "Years: 5\n",
        "Your monthly payment is: $552.50\n",
        "```"
      ]
    },
    {
      "cell_type": "code",
      "metadata": {
        "id": "p4B5JH5GiTs9",
        "colab": {
          "base_uri": "https://localhost:8080/"
        },
        "outputId": "b0320d23-e0a2-46e3-a7fd-ce7fa3e5c97a"
      },
      "source": [
        "# Type solution here\r\n",
        "PV = input(\"Loan Amount: \")\r\n",
        "while PV.isdigit == False:\r\n",
        "  PV = input(\"Loan Amount: \")\r\n",
        "PV = float(PV)\r\n",
        "\r\n",
        "i = input(\"Annual Interest Rate: \")\r\n",
        "while i.isdigit == False:\r\n",
        "  i = input(\"Annual Interest Rate: \")\r\n",
        "i = float(i);\r\n",
        "Y = input(\"Years: \")\r\n",
        "while Y.isdigit == False:\r\n",
        "  Y = input(\"Years: \")\r\n",
        "Y = float(Y)\r\n",
        "n = Y * 12\r\n",
        "top = (PV*i*((1+i)**n))\r\n",
        "bottom = (((1+i)**n)-1) \r\n",
        "PMT = top/bottom\r\n",
        "\r\n",
        "print(\"Your monthly payment is: $\" + str(round(PMT,2)))"
      ],
      "execution_count": null,
      "outputs": [
        {
          "output_type": "stream",
          "text": [
            "Loan Amount: 2300\n",
            "Annual Interest Rate: 2\n",
            "Years: 1\n",
            "Your monthly payment is: $4600.01\n"
          ],
          "name": "stdout"
        }
      ]
    },
    {
      "cell_type": "markdown",
      "metadata": {
        "id": "SjiolJKgiWV-"
      },
      "source": [
        "##### Q5. Write a program to that prompts the user to enter a string. Then check whether or not the string is a palindrome.\n",
        "\n",
        "```\n",
        "Enter a string: Madam\n",
        "Madam, is a palindrome!\n",
        "```"
      ]
    },
    {
      "cell_type": "code",
      "metadata": {
        "id": "F5_M934Ri0es",
        "colab": {
          "base_uri": "https://localhost:8080/"
        },
        "outputId": "991ec05d-73ac-4c73-80c6-76c3f7d7adeb"
      },
      "source": [
        "# Type solution here\r\n",
        "string = input(\"enter string: \")\r\n",
        "isPalindrome = True\r\n",
        "for i in range(int(len(string)/2)):\r\n",
        "  if string[i] != string[len(string)-1-i]:\r\n",
        "    isPalindrome = False\r\n",
        "if isPalindrome:\r\n",
        "  print(string + \", is a palindrome!\")\r\n",
        "else:\r\n",
        "  print(string + \", is not a palindrome!\")"
      ],
      "execution_count": null,
      "outputs": [
        {
          "output_type": "stream",
          "text": [
            "enter string: ere\n",
            "ere, is a palindrome!\n"
          ],
          "name": "stdout"
        }
      ]
    },
    {
      "cell_type": "markdown",
      "metadata": {
        "id": "BLBD6n9vkJEu"
      },
      "source": [
        "##### Q6. Write a program to compute and print all possible combinations of change for \\$1. Denominations to be considered – quarter, dime, nickel, penny.\n",
        "\n",
        "Hint: Use nested loops (loops within loops for the various denominations of coins)\n",
        "\n",
        "```\n",
        "Change for $1:\n",
        "0 quarters, 0 dimes, 0 nickels, 100 pennies\n",
        "…\n",
        "4 quarters, 0 dimes, 0 nickels, 0 pennies\n",
        "```"
      ]
    },
    {
      "cell_type": "code",
      "metadata": {
        "id": "kAQsTjwDkZZ5"
      },
      "source": [
        "# Type solution here\r\n",
        "for quarter in range:"
      ],
      "execution_count": null,
      "outputs": []
    },
    {
      "cell_type": "markdown",
      "metadata": {
        "id": "rUPDjYiIkbgs"
      },
      "source": [
        "##### Q7. Ask the user to enter two positive integers between 1 and 100. Read those integers. Then output a multiplication table of the first number times the second number. \n",
        "\n",
        "Note: You have to ensure the entered numbers are between 1 and 100 only.\n",
        "\n",
        "```\n",
        "Please enter an integer: 5\n",
        "Please enter another integer: 20\n",
        "5 x 1 = 5\n",
        "5 x 2 = 10\n",
        "5 x 3 = 15\n",
        "…\n",
        "5 x 20 = 100\n",
        "```"
      ]
    },
    {
      "cell_type": "code",
      "metadata": {
        "id": "Qg0Orv1klHzA",
        "colab": {
          "base_uri": "https://localhost:8080/"
        },
        "outputId": "9fc5c752-1928-4dcf-cd02-38bc14d1e05d"
      },
      "source": [
        "# Type solution here\r\n",
        "num1 = input(\"Please enter an interger: \")\r\n",
        "while num1.isdigit == False:\r\n",
        "  print(\"This is not an number.\")\r\n",
        "  num1 = input(\"Please enter an interger: \")\r\n",
        "while int(num1) > 100 or int(num1) < 1:\r\n",
        "  print(\"Please enter an interger from 1 to 100\")\r\n",
        "  num1 = input(\"Please enter an interger: \")\r\n",
        "\r\n",
        "num2 = input(\"Please enter another interger: \")\r\n",
        "while num2.isdigit == False:\r\n",
        "  print(\"This is not an number.\")\r\n",
        "  num2 = input(\"Please enter an interger: \")\r\n",
        "while int(num2) > 100 or int(num2) < 1:\r\n",
        "  print(\"Please enter an interger from 1 to 100\")\r\n",
        "  num2 = input(\"Please enter an intergaer: \")\r\n",
        "\r\n",
        "for i in range(0, int(num2)+ 1):\r\n",
        "  print(num1, \"x\", i, \"=\", i*int(num1))"
      ],
      "execution_count": null,
      "outputs": [
        {
          "output_type": "stream",
          "text": [
            "Please enter an interger: 1\n",
            "Please enter another interger: 20\n",
            "1 x 0 = 0\n",
            "1 x 1 = 1\n",
            "1 x 2 = 2\n",
            "1 x 3 = 3\n",
            "1 x 4 = 4\n",
            "1 x 5 = 5\n",
            "1 x 6 = 6\n",
            "1 x 7 = 7\n",
            "1 x 8 = 8\n",
            "1 x 9 = 9\n",
            "1 x 10 = 10\n",
            "1 x 11 = 11\n",
            "1 x 12 = 12\n",
            "1 x 13 = 13\n",
            "1 x 14 = 14\n",
            "1 x 15 = 15\n",
            "1 x 16 = 16\n",
            "1 x 17 = 17\n",
            "1 x 18 = 18\n",
            "1 x 19 = 19\n",
            "1 x 20 = 20\n"
          ],
          "name": "stdout"
        }
      ]
    },
    {
      "cell_type": "markdown",
      "metadata": {
        "id": "SbnbPUPTlLD9"
      },
      "source": [
        "##### Q8. Write a program to ask the user to enter a password. Then check to see if it is a valid password based on these requirements -\n",
        "\n",
        "Must be at least 8 characters long\n",
        "\n",
        "Must contain both uppercase and lowercase letters\n",
        "\n",
        "Must contain at least one number between 0-9\n",
        "\n",
        "Must contain a special character -!,@,#,$\n",
        "\n",
        "If the password is not valid, ask the user to re-enter. This should continue until the user enters a valid password. After a valid password is entered, print Access Granted!\n",
        "\n",
        "```\n",
        "Please enter a password. Follow these requirements - \n",
        "a. Must be at least 8 characters long\n",
        "b. Must contain both uppercase and lowercase letters\n",
        "c. Must contain at least one number between 0-9\n",
        "d. Must contain a special character -!,@,#,$\n",
        "Password: HelloWorld1\n",
        "Invalid password. Try again!\n",
        "Password: Hello@World1\n",
        "Access Granted!\n",
        "```\n"
      ]
    },
    {
      "cell_type": "code",
      "metadata": {
        "id": "OXmZ177Rl-RV",
        "colab": {
          "base_uri": "https://localhost:8080/"
        },
        "outputId": "50515b85-80e4-4829-d0bb-7c878f99c619"
      },
      "source": [
        "# Type solution here\r\n",
        "print(\"Please enter a password. Follow these requirements - \")\r\n",
        "print(\"a. Must be at least 8 characters long\")\r\n",
        "print(\"b. Must contain both uppercase and lowercase letters\")\r\n",
        "print(\"c. Must contain at least one number between 0-9\")\r\n",
        "print(\"d. Must contain a special character -!,@,#,$\")\r\n",
        "p = False\r\n",
        "while not p:\r\n",
        "  password = input(\"Password: \")\r\n",
        "  a = False\r\n",
        "  if (len(password) >= 8):\r\n",
        "    a = True\r\n",
        "  b = True\r\n",
        "  if (password.isupper() or password.islower()):\r\n",
        "    b = False\r\n",
        "  c = False\r\n",
        "  d = False\r\n",
        "\r\n",
        "  for ch in password:\r\n",
        "    if ch >= '0' and ch <= '9':\r\n",
        "      c = True\r\n",
        "    if (ch == '!' or ch == '@' or ch == '#' or ch == '$'):\r\n",
        "      d = True\r\n",
        "  if (a and b and c and d):\r\n",
        "    p = True\r\n",
        "  else:\r\n",
        "    print(\"Invalid  password. Try again!\") \r\n",
        "print(\"Access Granted!\")\r\n"
      ],
      "execution_count": 50,
      "outputs": [
        {
          "output_type": "stream",
          "text": [
            "Please enter a password. Follow these requirements - \n",
            "a. Must be at least 8 characters long\n",
            "b. Must contain both uppercase and lowercase letters\n",
            "c. Must contain at least one number between 0-9\n",
            "d. Must contain a special character -!,@,#,$\n",
            "Password: cheese\n",
            "Invalid  password. Try again!\n",
            "Password: waner\n",
            "Invalid  password. Try again!\n",
            "Password: nickisBad@TCodinG69\n",
            "Access Granted!\n"
          ],
          "name": "stdout"
        }
      ]
    },
    {
      "cell_type": "markdown",
      "metadata": {
        "id": "-0sdutTDnTKA"
      },
      "source": [
        "##### Q9. Given the score sheet of participants in a competition, you are required to find the runner-up score. You are given scores in a list. Find the score of the runner-up.\n",
        "\n",
        "```\n",
        "list1 - [2, 3, 6, 6, 5]\n",
        "runner_up - 5\n",
        "\n",
        "list2 - [1, 7, 5, 3, 10, 4, 5, 5, 6, 11]\n",
        "runner_up - 10\n",
        "```"
      ]
    },
    {
      "cell_type": "code",
      "metadata": {
        "id": "12YP9OaqpGRK",
        "colab": {
          "base_uri": "https://localhost:8080/"
        },
        "outputId": "04759e51-219c-4975-ca5f-b5e416a95f86"
      },
      "source": [
        "# Type solution here\r\n",
        "list1 = [2,3,6,6,5]\r\n",
        "runner_up1 = 5\r\n",
        "list2 = [1,7,5,3,10,4,5,5,6,11]\r\n",
        "runner_up2 = 10\r\n",
        "\r\n",
        "for i in list1:\r\n",
        "  if i == runner_up1:\r\n",
        "    print(i)\r\n",
        "for i in list2:\r\n",
        "  if i == runner_up2:\r\n",
        "    print(i)\r\n",
        "\r\n"
      ],
      "execution_count": 55,
      "outputs": [
        {
          "output_type": "stream",
          "text": [
            "5\n",
            "10\n"
          ],
          "name": "stdout"
        }
      ]
    }
  ]
}