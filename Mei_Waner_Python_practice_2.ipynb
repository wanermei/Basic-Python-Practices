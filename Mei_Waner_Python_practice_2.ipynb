{
  "nbformat": 4,
  "nbformat_minor": 0,
  "metadata": {
    "colab": {
      "name": "Homework2 solutions.ipynb",
      "provenance": [],
      "collapsed_sections": []
    },
    "kernelspec": {
      "name": "python3",
      "display_name": "Python 3"
    }
  },
  "cells": [
    {
      "cell_type": "markdown",
      "metadata": {
        "id": "bNsIruOzI4iF"
      },
      "source": [
        "## **Homework 2**\n",
        "\n",
        "### Create a copy of the notebook to start answering the questions. Name your notebook in the format HW1_lastname_firstname.ipynb to facilitate the grading process. \n",
        "\n",
        "### Answer all the questions, test your code to ensure there are no errors and the results are as expected. Once you have answered all the questions, save the final copy, then go to File-> click on Download.ipynb. Once the local copy has been downloaded, submit your file on Blackboard under the corresponding assignment section. Also provide us a link to your notebook during submission. \n",
        "\n",
        "### **The due date of this homework is 02/12/2021 (Friday).**\n",
        "\n",
        "### Please ensure you follow all the steps mentioned in the homework.\n",
        "\n",
        "### All the questions have a sample input and output to help you understand the question. Please note that your programs will be tested for other sets of inputs and outputs along with the sample provided. So test your code for other inputs.\n",
        "\n",
        "### You can submit your solutions any number of times until the deadline.\n"
      ]
    },
    {
      "cell_type": "markdown",
      "metadata": {
        "id": "U3Yz3s2uio1F"
      },
      "source": [
        "**Q1. Lets consider your data is like the below cell:** - 7 marks\n",
        "\n",
        "**Q1-1**: Write a program that create a dataframe from the data. -1 \n",
        "\n",
        "**Q1-2:** Select people that are psychologist or teacher and their number of cars is greater than their family size. -2\n",
        "\n",
        "**Q1-3:** Select people who have at most 2 family members and at least 1 car. -2\n",
        "\n",
        "**Q1-4:** Write a code that get number of unique jobs in this dataset. -2\n",
        "\n",
        "\n",
        "\n"
      ]
    },
    {
      "cell_type": "code",
      "metadata": {
        "id": "yR8lcOtcjxXD"
      },
      "source": [
        "data = {\"name\": [\"Joseph\", \"Jacob\", \"Sam\", \"Jesee\", \"Ryan\", \"Lisa\", \"Lee\"],\n",
        "        \"job\": [\"teacher\", \"psychologist\", \"data scientist\", \"software developer\", \"psychologist\", \"psychologist\", \"teacher\"],\n",
        "        \"family_size\": [3, 2, 1, 4, 2, 3, 2],\n",
        "        \"num_cars\": [3, 1, 1, 2, 2, 4, 1]}"
      ],
      "execution_count": null,
      "outputs": []
    },
    {
      "cell_type": "code",
      "metadata": {
        "id": "Youi5qMaP34p",
        "colab": {
          "base_uri": "https://localhost:8080/"
        },
        "outputId": "9f1fb42f-40c1-4fb1-f197-ec577e880abb"
      },
      "source": [
        "\n",
        "#solutions\n",
        "\n",
        "import pandas as pd\n",
        "\n",
        "data = {\"name\": [\"Joseph\", \"Jacob\", \"Sam\", \"Jesee\", \"Ryan\", \"Lisa\", \"Lee\"],\n",
        "        \"job\": [\"teacher\", \"psychologist\", \"data scientist\", \"software developer\", \"psychologist\", \"psychologist\", \"teacher\"],\n",
        "        \"family_size\": [3, 2, 1, 4, 2, 3, 2],\n",
        "        \"num_cars\": [2, 1, 1, 2, 2, 4, 1]}\n",
        "\n",
        "#Q1-1\n",
        "frame = pd.DataFrame(data, columns=[\"name\", \"job\", \"family_size\", \"num_cars\"])\n",
        "# print(frame)\n",
        "\n",
        "#Q1-2\n",
        "print(frame[(frame[\"job\"].isin([\"psychologist\", \"teacher\"])) & (frame[\"num_cars\"]> frame[\"family_size\"])])\n",
        "# print(frame[((frame.job == \"psychologist\") | (frame.job == \"teacher\")) & (frame.num_cars > frame.family_size)])\n",
        "\n",
        "# #Q1-3\n",
        "print(frame[(frame['family_size']<=2) &(frame['num_cars']>=1)])\n",
        "#print(frame[(frame[\"family_size\"]<=2)&(frame[\"num_cars\"]>=1)])\n",
        "\n",
        "# #Q1-4\n",
        "print(len(set(frame[\"job\"])))\n"
      ],
      "execution_count": null,
      "outputs": [
        {
          "output_type": "stream",
          "text": [
            "   name           job  family_size  num_cars\n",
            "5  Lisa  psychologist            3         4\n",
            "    name             job  family_size  num_cars\n",
            "1  Jacob    psychologist            2         1\n",
            "2    Sam  data scientist            1         1\n",
            "4   Ryan    psychologist            2         2\n",
            "6    Lee         teacher            2         1\n",
            "4\n"
          ],
          "name": "stdout"
        }
      ]
    },
    {
      "cell_type": "markdown",
      "metadata": {
        "id": "Ow6nG8k4l91X"
      },
      "source": [
        "**Q2. Lets consider you have two series like the below cell. Compute the mean of weights of each fruit.** - 3 marks"
      ]
    },
    {
      "cell_type": "code",
      "metadata": {
        "id": "u-X_DoOzVLLB"
      },
      "source": [
        "import numpy as np\n",
        "fruit = pd.Series(np.random.choice(['apple', 'banana', 'carrot'], 10))\n",
        "weights = pd.Series(np.linspace(1, 10, 10))"
      ],
      "execution_count": null,
      "outputs": []
    },
    {
      "cell_type": "code",
      "metadata": {
        "colab": {
          "base_uri": "https://localhost:8080/"
        },
        "id": "S419nzYnpU__",
        "outputId": "8eb7d533-9378-4dcf-f28b-60daad47137d"
      },
      "source": [
        "#solution\n",
        "weights.groupby(fruit).mean()"
      ],
      "execution_count": null,
      "outputs": [
        {
          "output_type": "execute_result",
          "data": {
            "text/plain": [
              "apple     7.333333\n",
              "banana    4.750000\n",
              "carrot    4.666667\n",
              "dtype: float64"
            ]
          },
          "metadata": {
            "tags": []
          },
          "execution_count": 4
        }
      ]
    },
    {
      "cell_type": "markdown",
      "metadata": {
        "id": "g4lKaPIhtVrt"
      },
      "source": [
        "**Q3. Consider the below course_name array:** - 5 marks\n",
        "\n",
        "**Q3-1**: Write a NumPy program to get the indices of the sorted elements of **course_name** array.  - 2 marks\n",
        "\n",
        "**Q3-2:** Write numpy code to check whether each element of **course_name** array starts with \"P\".   - 3 marks\n"
      ]
    },
    {
      "cell_type": "code",
      "metadata": {
        "id": "RUP_jp2KtVrx"
      },
      "source": [
        "import numpy as np\n",
        "course_name = np.array(['Python', 'JS', 'examples', 'PHP', 'html'])\n"
      ],
      "execution_count": null,
      "outputs": []
    },
    {
      "cell_type": "code",
      "metadata": {
        "id": "U1i27POxv-o_",
        "colab": {
          "base_uri": "https://localhost:8080/"
        },
        "outputId": "84c1b377-ddc0-4c19-ad95-afb93de2f292"
      },
      "source": [
        "\n",
        "\n",
        "# Q3-1\n",
        "i = np.argsort(course_name)\n",
        "print(\"Indices of the sorted elements of a given array:\\n\", i)\n",
        "\n",
        "# Q3-2\n",
        "print(\"Test if each element of the said array starts with 'P':\")\n",
        "r = np.char.startswith(course_name, 'P')\n",
        "print(r)\n",
        "\n",
        "\n",
        "\n",
        "\n"
      ],
      "execution_count": null,
      "outputs": [
        {
          "output_type": "stream",
          "text": [
            "Indices of the sorted elements of a given array:\n",
            " [1 3 0 2 4]\n",
            "Test if each element of the said array starts with 'P':\n",
            "[ True False False  True False]\n"
          ],
          "name": "stdout"
        }
      ]
    },
    {
      "cell_type": "markdown",
      "metadata": {
        "id": "sUFItNFOxwkz"
      },
      "source": [
        "**Q4. Consider the below student_id array:** - 5 marks\n",
        "\n",
        "**Q4-1:** Reverse the **student_id** array. Print both original and reversed array.  - 2 marks\n",
        "\n",
        "**Q4-2:** Get the 3-largest values of **student_id** array. - 3 marks"
      ]
    },
    {
      "cell_type": "code",
      "metadata": {
        "id": "Rl5qzEjFv0nw"
      },
      "source": [
        "import numpy as np\n",
        "student_id = np.array([1023, 5202, 6230, 1671, 1682, 5241, 4532])"
      ],
      "execution_count": null,
      "outputs": []
    },
    {
      "cell_type": "code",
      "metadata": {
        "id": "EetvHGrUxMCC",
        "colab": {
          "base_uri": "https://localhost:8080/"
        },
        "outputId": "d535d065-749d-48d9-b536-fe282c714493"
      },
      "source": [
        "# Q4-1\n",
        "reversed_arr = student_id[::-1] \n",
        "print(\"Original array\", student_id, \"\\nReversed array\", str(reversed_arr)) \n",
        "\n",
        "# Q4-2\n",
        "sorted_index_array = np.argsort(student_id)\n",
        "sorted_arr = student_id[sorted_index_array]\n",
        "# print(sorted_arr)\n",
        "print(\"3 largest values:\", sorted_arr[-3 : ] ) \n"
      ],
      "execution_count": null,
      "outputs": [
        {
          "output_type": "stream",
          "text": [
            "Original array [1023 5202 6230 1671 1682 5241 4532] \n",
            "Reversed array [4532 5241 1682 1671 6230 5202 1023]\n",
            "3 largest values: [5202 5241 6230]\n"
          ],
          "name": "stdout"
        }
      ]
    },
    {
      "cell_type": "markdown",
      "metadata": {
        "id": "uKRyDVuW6B19"
      },
      "source": [
        "**Q5: Write a numpy program to print sum of all the multiples of 3 or 5 below 100**  - 5 marks"
      ]
    },
    {
      "cell_type": "code",
      "metadata": {
        "id": "ZIixq1gz6OK3",
        "colab": {
          "base_uri": "https://localhost:8080/"
        },
        "outputId": "b804fdb4-43c1-4d36-aa69-cb0526432cb7"
      },
      "source": [
        "import numpy as np\n",
        "x = np.arange(1, 100)\n",
        "# find  multiple of 3 or 5\n",
        "n= x[(x % 3 == 0) | (x % 5 == 0)]\n",
        "print(n)\n",
        "print(n.sum())"
      ],
      "execution_count": null,
      "outputs": [
        {
          "output_type": "stream",
          "text": [
            "[ 3  5  6  9 10 12 15 18 20 21 24 25 27 30 33 35 36 39 40 42 45 48 50 51\n",
            " 54 55 57 60 63 65 66 69 70 72 75 78 80 81 84 85 87 90 93 95 96 99]\n",
            "2318\n"
          ],
          "name": "stdout"
        }
      ]
    },
    {
      "cell_type": "markdown",
      "metadata": {
        "id": "2CWJOsP24c34"
      },
      "source": [
        "**Q6. Consider the below array.**  - 5 marks\n",
        "\n",
        "Q6.1. Write a code to swap column 1 with column 2.  - 2.5 marks\n",
        "\n",
        "Q6.2. Write a code to swap row 0 with row 1. 2.5 marks\n",
        "\n",
        "6.2 should follow 6.1 and not the original array"
      ]
    },
    {
      "cell_type": "code",
      "metadata": {
        "colab": {
          "base_uri": "https://localhost:8080/"
        },
        "id": "3OG6X5Eg5KSM",
        "outputId": "82e0445e-d348-4012-ec31-550a2b1049a2"
      },
      "source": [
        "import numpy as np\n",
        "\n",
        "arr = np.arange(12).reshape(3,4)\n",
        "print(arr)"
      ],
      "execution_count": null,
      "outputs": [
        {
          "output_type": "stream",
          "text": [
            "[[ 0  1  2  3]\n",
            " [ 4  5  6  7]\n",
            " [ 8  9 10 11]]\n"
          ],
          "name": "stdout"
        }
      ]
    },
    {
      "cell_type": "code",
      "metadata": {
        "colab": {
          "base_uri": "https://localhost:8080/"
        },
        "id": "Q-Q91DpO5YYW",
        "outputId": "04168036-bba7-40c0-ae83-9682e2fbd5f1"
      },
      "source": [
        "#solution\n",
        "arr= arr[:,[0,2,1,3]]\n",
        "print(arr)\n",
        "\n",
        "arr = arr [[1,0,2],:]\n",
        "print(arr)"
      ],
      "execution_count": null,
      "outputs": [
        {
          "output_type": "stream",
          "text": [
            "[[ 0  2  1  3]\n",
            " [ 4  6  5  7]\n",
            " [ 8 10  9 11]]\n",
            "[[ 4  6  5  7]\n",
            " [ 0  2  1  3]\n",
            " [ 8 10  9 11]]\n"
          ],
          "name": "stdout"
        }
      ]
    }
  ]
}